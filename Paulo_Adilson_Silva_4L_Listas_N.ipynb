{
  "nbformat": 4,
  "nbformat_minor": 0,
  "metadata": {
    "colab": {
      "name": "Paulo Adilson Silva - 4L_Listas_N.ipynb",
      "provenance": [],
      "collapsed_sections": [],
      "include_colab_link": true
    },
    "kernelspec": {
      "name": "python3",
      "display_name": "Python 3"
    }
  },
  "cells": [
    {
      "cell_type": "markdown",
      "metadata": {
        "id": "view-in-github",
        "colab_type": "text"
      },
      "source": [
        "<a href=\"https://colab.research.google.com/github/pauloadilson/hello-world/blob/master/Paulo_Adilson_Silva_4L_Listas_N.ipynb\" target=\"_parent\"><img src=\"https://colab.research.google.com/assets/colab-badge.svg\" alt=\"Open In Colab\"/></a>"
      ]
    },
    {
      "cell_type": "markdown",
      "metadata": {
        "id": "BTk5UJlvXLuB",
        "colab_type": "text"
      },
      "source": [
        "#**EXERCÍCIOS SOBRE LISTAS - VETOR**"
      ]
    },
    {
      "cell_type": "markdown",
      "metadata": {
        "id": "YOspAvb8YpqR",
        "colab_type": "text"
      },
      "source": [
        "### 1. Faça um algoritmo que calcule e apresente a média de idades de uma sala de 35 alunos.​​"
      ]
    },
    {
      "cell_type": "code",
      "metadata": {
        "id": "lL_PrmERgq8u",
        "colab_type": "code",
        "outputId": "5cf39be2-ce9b-4356-d5f8-e1976c96493b",
        "colab": {
          "base_uri": "https://localhost:8080/",
          "height": 85
        }
      },
      "source": [
        "# 1. Faça um algoritmo que calcule e apresente a média de idades de uma sala de 35 alunos.​​\n",
        "idAl = []\n",
        "for aluno in range(35):\n",
        "    idAl.append(int(input('Informe a idade do {}º aluno: ' .format(aluno+1))))\n",
        "print('\\nA idade média da turma é {:.2f}.' .format(sum(idAl)/len(idAl)))"
      ],
      "execution_count": 0,
      "outputs": [
        {
          "output_type": "stream",
          "text": [
            "Informe a idade do 1º aluno: 25\n",
            "Informe a idade do 2º aluno: 20\n",
            "\n",
            "A idade média da turma é 22.50.\n"
          ],
          "name": "stdout"
        }
      ]
    },
    {
      "cell_type": "code",
      "metadata": {
        "id": "PR5Z9QlTXHEO",
        "colab_type": "code",
        "colab": {}
      },
      "source": [
        "# 1. Faça um algoritmo que calcule e apresente a média de idades de uma sala de 35 alunos.​​\n",
        "sId = 0\n",
        "for aluno in range(35):\n",
        "    idade = int(input('Informe a idade do {}º aluno: ' .format(aluno+1)))\n",
        "    sId += idade\n",
        "print('\\nA idade média da turma é {:.2f}.' .format(sId/(35)))"
      ],
      "execution_count": 0,
      "outputs": []
    },
    {
      "cell_type": "markdown",
      "metadata": {
        "id": "XtTydU3HZNHi",
        "colab_type": "text"
      },
      "source": [
        "### 2. Faça um algoritmo que calcule e apresente a média de alturas de uma sala de 35 alunos. Informe também quantos alunos e quais são os que possuem idade superior a 25 anos.​"
      ]
    },
    {
      "cell_type": "code",
      "metadata": {
        "id": "n-bT5WDZZQQ0",
        "colab_type": "code",
        "outputId": "a4b2b423-fa9d-4969-d92d-11d1e57cc9f0",
        "colab": {
          "base_uri": "https://localhost:8080/",
          "height": 666
        }
      },
      "source": [
        "# 2. Faça um algoritmo que\n",
        "sAlt = 0\n",
        "idgt25 = 0\n",
        "nIdgt25 = []\n",
        "for aluno in range(35):\n",
        "    nAluno = input('\\nInforme o nome do {}º aluno: ' .format(aluno+1))\n",
        "    idade = int(input('Informe a idade do {}º aluno: ' .format(aluno+1)))\n",
        "    alt = float(input('Informe a altura do {}º aluno (em m.): ' .format(aluno+1)))\n",
        "    sAlt += alt\n",
        "    if idade > 25:\n",
        "        idgt25 += 1\n",
        "        nIdgt25.append(nAluno) \n",
        "print('\\nA altura média da turma é {:.2f}m.' .format(sAlt/35))\n",
        "print('A quantidade de alunos acima de 25 anos é {}.' .format(idgt25))\n",
        "print('Os alunos acima de 25 anos são: ', end=\"\")\n",
        "print(*nIdgt25, sep=\", \", end=\".\")"
      ],
      "execution_count": 0,
      "outputs": [
        {
          "output_type": "stream",
          "text": [
            "Informe o nome do 1º aluno: 30\n",
            "Informe a idade do 1º aluno: 36\n",
            "Informe a altura do 1º aluno (em m.): 25\n",
            "Informe o nome do 2º aluno: 14\n",
            "Informe a idade do 2º aluno: 17\n",
            "Informe a altura do 2º aluno (em m.): 28\n",
            "Informe o nome do 3º aluno: 39\n"
          ],
          "name": "stdout"
        },
        {
          "output_type": "error",
          "ename": "KeyboardInterrupt",
          "evalue": "ignored",
          "traceback": [
            "\u001b[0;31m---------------------------------------------------------------------------\u001b[0m",
            "\u001b[0;31mKeyboardInterrupt\u001b[0m                         Traceback (most recent call last)",
            "\u001b[0;32m/usr/local/lib/python3.6/dist-packages/ipykernel/kernelbase.py\u001b[0m in \u001b[0;36m_input_request\u001b[0;34m(self, prompt, ident, parent, password)\u001b[0m\n\u001b[1;32m    729\u001b[0m             \u001b[0;32mtry\u001b[0m\u001b[0;34m:\u001b[0m\u001b[0;34m\u001b[0m\u001b[0;34m\u001b[0m\u001b[0m\n\u001b[0;32m--> 730\u001b[0;31m                 \u001b[0mident\u001b[0m\u001b[0;34m,\u001b[0m \u001b[0mreply\u001b[0m \u001b[0;34m=\u001b[0m \u001b[0mself\u001b[0m\u001b[0;34m.\u001b[0m\u001b[0msession\u001b[0m\u001b[0;34m.\u001b[0m\u001b[0mrecv\u001b[0m\u001b[0;34m(\u001b[0m\u001b[0mself\u001b[0m\u001b[0;34m.\u001b[0m\u001b[0mstdin_socket\u001b[0m\u001b[0;34m,\u001b[0m \u001b[0;36m0\u001b[0m\u001b[0;34m)\u001b[0m\u001b[0;34m\u001b[0m\u001b[0;34m\u001b[0m\u001b[0m\n\u001b[0m\u001b[1;32m    731\u001b[0m             \u001b[0;32mexcept\u001b[0m \u001b[0mException\u001b[0m\u001b[0;34m:\u001b[0m\u001b[0;34m\u001b[0m\u001b[0;34m\u001b[0m\u001b[0m\n",
            "\u001b[0;32m/usr/local/lib/python3.6/dist-packages/jupyter_client/session.py\u001b[0m in \u001b[0;36mrecv\u001b[0;34m(self, socket, mode, content, copy)\u001b[0m\n\u001b[1;32m    802\u001b[0m         \u001b[0;32mtry\u001b[0m\u001b[0;34m:\u001b[0m\u001b[0;34m\u001b[0m\u001b[0;34m\u001b[0m\u001b[0m\n\u001b[0;32m--> 803\u001b[0;31m             \u001b[0mmsg_list\u001b[0m \u001b[0;34m=\u001b[0m \u001b[0msocket\u001b[0m\u001b[0;34m.\u001b[0m\u001b[0mrecv_multipart\u001b[0m\u001b[0;34m(\u001b[0m\u001b[0mmode\u001b[0m\u001b[0;34m,\u001b[0m \u001b[0mcopy\u001b[0m\u001b[0;34m=\u001b[0m\u001b[0mcopy\u001b[0m\u001b[0;34m)\u001b[0m\u001b[0;34m\u001b[0m\u001b[0;34m\u001b[0m\u001b[0m\n\u001b[0m\u001b[1;32m    804\u001b[0m         \u001b[0;32mexcept\u001b[0m \u001b[0mzmq\u001b[0m\u001b[0;34m.\u001b[0m\u001b[0mZMQError\u001b[0m \u001b[0;32mas\u001b[0m \u001b[0me\u001b[0m\u001b[0;34m:\u001b[0m\u001b[0;34m\u001b[0m\u001b[0;34m\u001b[0m\u001b[0m\n",
            "\u001b[0;32m/usr/local/lib/python3.6/dist-packages/zmq/sugar/socket.py\u001b[0m in \u001b[0;36mrecv_multipart\u001b[0;34m(self, flags, copy, track)\u001b[0m\n\u001b[1;32m    465\u001b[0m         \"\"\"\n\u001b[0;32m--> 466\u001b[0;31m         \u001b[0mparts\u001b[0m \u001b[0;34m=\u001b[0m \u001b[0;34m[\u001b[0m\u001b[0mself\u001b[0m\u001b[0;34m.\u001b[0m\u001b[0mrecv\u001b[0m\u001b[0;34m(\u001b[0m\u001b[0mflags\u001b[0m\u001b[0;34m,\u001b[0m \u001b[0mcopy\u001b[0m\u001b[0;34m=\u001b[0m\u001b[0mcopy\u001b[0m\u001b[0;34m,\u001b[0m \u001b[0mtrack\u001b[0m\u001b[0;34m=\u001b[0m\u001b[0mtrack\u001b[0m\u001b[0;34m)\u001b[0m\u001b[0;34m]\u001b[0m\u001b[0;34m\u001b[0m\u001b[0;34m\u001b[0m\u001b[0m\n\u001b[0m\u001b[1;32m    467\u001b[0m         \u001b[0;31m# have first part already, only loop while more to receive\u001b[0m\u001b[0;34m\u001b[0m\u001b[0;34m\u001b[0m\u001b[0;34m\u001b[0m\u001b[0m\n",
            "\u001b[0;32mzmq/backend/cython/socket.pyx\u001b[0m in \u001b[0;36mzmq.backend.cython.socket.Socket.recv\u001b[0;34m()\u001b[0m\n",
            "\u001b[0;32mzmq/backend/cython/socket.pyx\u001b[0m in \u001b[0;36mzmq.backend.cython.socket.Socket.recv\u001b[0;34m()\u001b[0m\n",
            "\u001b[0;32mzmq/backend/cython/socket.pyx\u001b[0m in \u001b[0;36mzmq.backend.cython.socket._recv_copy\u001b[0;34m()\u001b[0m\n",
            "\u001b[0;32m/usr/local/lib/python3.6/dist-packages/zmq/backend/cython/checkrc.pxd\u001b[0m in \u001b[0;36mzmq.backend.cython.checkrc._check_rc\u001b[0;34m()\u001b[0m\n",
            "\u001b[0;31mKeyboardInterrupt\u001b[0m: ",
            "\nDuring handling of the above exception, another exception occurred:\n",
            "\u001b[0;31mKeyboardInterrupt\u001b[0m                         Traceback (most recent call last)",
            "\u001b[0;32m<ipython-input-1-34b5ceda38fe>\u001b[0m in \u001b[0;36m<module>\u001b[0;34m()\u001b[0m\n\u001b[1;32m      4\u001b[0m \u001b[0;32mfor\u001b[0m \u001b[0maluno\u001b[0m \u001b[0;32min\u001b[0m \u001b[0mrange\u001b[0m\u001b[0;34m(\u001b[0m\u001b[0;36m35\u001b[0m\u001b[0;34m)\u001b[0m\u001b[0;34m:\u001b[0m\u001b[0;34m\u001b[0m\u001b[0;34m\u001b[0m\u001b[0m\n\u001b[1;32m      5\u001b[0m     \u001b[0mnAluno\u001b[0m \u001b[0;34m=\u001b[0m \u001b[0minput\u001b[0m\u001b[0;34m(\u001b[0m\u001b[0;34m'Informe o nome do {}º aluno: '\u001b[0m \u001b[0;34m.\u001b[0m\u001b[0mformat\u001b[0m\u001b[0;34m(\u001b[0m\u001b[0maluno\u001b[0m\u001b[0;34m+\u001b[0m\u001b[0;36m1\u001b[0m\u001b[0;34m)\u001b[0m\u001b[0;34m)\u001b[0m\u001b[0;34m\u001b[0m\u001b[0;34m\u001b[0m\u001b[0m\n\u001b[0;32m----> 6\u001b[0;31m     \u001b[0midade\u001b[0m \u001b[0;34m=\u001b[0m \u001b[0mint\u001b[0m\u001b[0;34m(\u001b[0m\u001b[0minput\u001b[0m\u001b[0;34m(\u001b[0m\u001b[0;34m'Informe a idade do {}º aluno: '\u001b[0m \u001b[0;34m.\u001b[0m\u001b[0mformat\u001b[0m\u001b[0;34m(\u001b[0m\u001b[0maluno\u001b[0m\u001b[0;34m+\u001b[0m\u001b[0;36m1\u001b[0m\u001b[0;34m)\u001b[0m\u001b[0;34m)\u001b[0m\u001b[0;34m)\u001b[0m\u001b[0;34m\u001b[0m\u001b[0;34m\u001b[0m\u001b[0m\n\u001b[0m\u001b[1;32m      7\u001b[0m     \u001b[0malt\u001b[0m \u001b[0;34m=\u001b[0m \u001b[0mfloat\u001b[0m\u001b[0;34m(\u001b[0m\u001b[0minput\u001b[0m\u001b[0;34m(\u001b[0m\u001b[0;34m'Informe a altura do {}º aluno (em m.): '\u001b[0m \u001b[0;34m.\u001b[0m\u001b[0mformat\u001b[0m\u001b[0;34m(\u001b[0m\u001b[0maluno\u001b[0m\u001b[0;34m+\u001b[0m\u001b[0;36m1\u001b[0m\u001b[0;34m)\u001b[0m\u001b[0;34m)\u001b[0m\u001b[0;34m)\u001b[0m\u001b[0;34m\u001b[0m\u001b[0;34m\u001b[0m\u001b[0m\n\u001b[1;32m      8\u001b[0m     \u001b[0msAlt\u001b[0m \u001b[0;34m+=\u001b[0m \u001b[0malt\u001b[0m\u001b[0;34m\u001b[0m\u001b[0;34m\u001b[0m\u001b[0m\n",
            "\u001b[0;32m/usr/local/lib/python3.6/dist-packages/ipykernel/kernelbase.py\u001b[0m in \u001b[0;36mraw_input\u001b[0;34m(self, prompt)\u001b[0m\n\u001b[1;32m    703\u001b[0m             \u001b[0mself\u001b[0m\u001b[0;34m.\u001b[0m\u001b[0m_parent_ident\u001b[0m\u001b[0;34m,\u001b[0m\u001b[0;34m\u001b[0m\u001b[0;34m\u001b[0m\u001b[0m\n\u001b[1;32m    704\u001b[0m             \u001b[0mself\u001b[0m\u001b[0;34m.\u001b[0m\u001b[0m_parent_header\u001b[0m\u001b[0;34m,\u001b[0m\u001b[0;34m\u001b[0m\u001b[0;34m\u001b[0m\u001b[0m\n\u001b[0;32m--> 705\u001b[0;31m             \u001b[0mpassword\u001b[0m\u001b[0;34m=\u001b[0m\u001b[0;32mFalse\u001b[0m\u001b[0;34m,\u001b[0m\u001b[0;34m\u001b[0m\u001b[0;34m\u001b[0m\u001b[0m\n\u001b[0m\u001b[1;32m    706\u001b[0m         )\n\u001b[1;32m    707\u001b[0m \u001b[0;34m\u001b[0m\u001b[0m\n",
            "\u001b[0;32m/usr/local/lib/python3.6/dist-packages/ipykernel/kernelbase.py\u001b[0m in \u001b[0;36m_input_request\u001b[0;34m(self, prompt, ident, parent, password)\u001b[0m\n\u001b[1;32m    733\u001b[0m             \u001b[0;32mexcept\u001b[0m \u001b[0mKeyboardInterrupt\u001b[0m\u001b[0;34m:\u001b[0m\u001b[0;34m\u001b[0m\u001b[0;34m\u001b[0m\u001b[0m\n\u001b[1;32m    734\u001b[0m                 \u001b[0;31m# re-raise KeyboardInterrupt, to truncate traceback\u001b[0m\u001b[0;34m\u001b[0m\u001b[0;34m\u001b[0m\u001b[0;34m\u001b[0m\u001b[0m\n\u001b[0;32m--> 735\u001b[0;31m                 \u001b[0;32mraise\u001b[0m \u001b[0mKeyboardInterrupt\u001b[0m\u001b[0;34m\u001b[0m\u001b[0;34m\u001b[0m\u001b[0m\n\u001b[0m\u001b[1;32m    736\u001b[0m             \u001b[0;32melse\u001b[0m\u001b[0;34m:\u001b[0m\u001b[0;34m\u001b[0m\u001b[0;34m\u001b[0m\u001b[0m\n\u001b[1;32m    737\u001b[0m                 \u001b[0;32mbreak\u001b[0m\u001b[0;34m\u001b[0m\u001b[0;34m\u001b[0m\u001b[0m\n",
            "\u001b[0;31mKeyboardInterrupt\u001b[0m: "
          ]
        }
      ]
    },
    {
      "cell_type": "markdown",
      "metadata": {
        "id": "3x_WkNYTZQeD",
        "colab_type": "text"
      },
      "source": [
        "### 3. Faça um programa que carregue um vetor de dez elementos que contenha o nome de pessoas e outro que contenha o peso, encontre qual a pessoa mais gorda e mais magra e apresente o nome o peso das mesmas.​"
      ]
    },
    {
      "cell_type": "code",
      "metadata": {
        "id": "7VsianjuZMrf",
        "colab_type": "code",
        "outputId": "c6852780-b933-4be8-bdb6-942689db7636",
        "colab": {
          "base_uri": "https://localhost:8080/",
          "height": 51
        }
      },
      "source": [
        "# 3. Faça um programa que \n",
        "n = ['Pedro','Thiago','João','Paulo','Daniel','Maria','Cátia','Suelen','Laura','Maria']\n",
        "p = [82,75,65,73,88,66,52,49,80,56]\n",
        "maM = min(p)\n",
        "maG = max(p)\n",
        "nMaM = n[p.index(maM)]\n",
        "nMaG = n[p.index(maG)]\n",
        "print(\"A pessoa menos peso é {} e ela pesa {}kg.\" .format(nMaM,maM))\n",
        "print(\"A pessoa de mais peso é {} e ela pesa {}kg.\" .format(nMaG,maG))"
      ],
      "execution_count": 0,
      "outputs": [
        {
          "output_type": "stream",
          "text": [
            "A pessoa menos peso é Suelen e ela pesa 49kg.\n",
            "A pessoa de mais peso é Daniel e ela pesa 88kg.\n"
          ],
          "name": "stdout"
        }
      ]
    },
    {
      "cell_type": "markdown",
      "metadata": {
        "id": "xSpiII3mZdQV",
        "colab_type": "text"
      },
      "source": [
        "### 4. Faça um programa que carregue um vetor com nota de dez alunos, calcule e mostre a MÉDIA DA SALA e quantos alunos estão acima e abaixo da média da sala."
      ]
    },
    {
      "cell_type": "code",
      "metadata": {
        "id": "iWBTxDXvZUPP",
        "colab_type": "code",
        "colab": {}
      },
      "source": [
        "# 4. Faça um programa que\n",
        "nAl = [10,3,9,5,9,6,10,5,9,7]\n",
        "nAc = 0\n",
        "nAb = 0\n",
        "med = sum(nAl)/len(nAl)\n",
        "for n in nAl:\n",
        "    if n >= med:\n",
        "        nAc += 1\n",
        "    else:\n",
        "        nAb += 1\n",
        "print('A média da sala é {}.' .format(med))\n",
        "print('O número de notas acima da média é {}.' .format(nAc))\n",
        "print('O número de notas abaixo da média é {}.' .format(nAb))"
      ],
      "execution_count": 0,
      "outputs": []
    },
    {
      "cell_type": "markdown",
      "metadata": {
        "id": "frrtYwMAZUcL",
        "colab_type": "text"
      },
      "source": [
        "### 5. Faça um programa que carregue um vetor de oito elementos numéricos inteiros, calcule e mostre os números pares e suas respectivas posições."
      ]
    },
    {
      "cell_type": "code",
      "metadata": {
        "id": "7S8zpor8Z5Hb",
        "colab_type": "code",
        "colab": {}
      },
      "source": [
        "# 5. Faça um programa que\n",
        "nInt = [1,15,2,95,32,523,46,17]\n",
        "for n in nInt:\n",
        "    if n % 2 == 0:\n",
        "        print('{} é par e ele ocupa a {}ª posição de armazenamento na lista.' .format(n,nInt.index(n)))\n"
      ],
      "execution_count": 0,
      "outputs": []
    },
    {
      "cell_type": "markdown",
      "metadata": {
        "id": "cml17HAsZ5Wf",
        "colab_type": "text"
      },
      "source": [
        "### 6. Faça um programa que carregue um vetor com dez nomes e faça uma verificação se um determinado nome esta nesse vetor.\n"
      ]
    },
    {
      "cell_type": "code",
      "metadata": {
        "id": "4R-FGZy4aHNx",
        "colab_type": "code",
        "outputId": "d1b5cfd0-fba4-4d32-b7f5-27c2d8715fe6",
        "colab": {
          "base_uri": "https://localhost:8080/",
          "height": 51
        }
      },
      "source": [
        "# 6. Faça um programa que\n",
        "n = ['Pedro','Thiago','João','Paulo','Daniel','Maria','Cátia','Suelen','Laura','Maria']\n",
        "nL = [nL.lower() for nL in n]\n",
        "qNome = input('Informe um nome para saber se ele está na lista: ').lower()\n",
        "if qNome in nL:\n",
        "    print(\"O nome '{}' está na lista.\" .format(qNome)) #n[nL.index(qNome)]))\n",
        "else:\n",
        "    print(\"O nome '{}' não está na lista.\" .format(qNome))"
      ],
      "execution_count": 0,
      "outputs": [
        {
          "output_type": "stream",
          "text": [
            "Informe um nome para saber se ele está na lista: jão\n",
            "O nome 'jão' não está na lista.\n"
          ],
          "name": "stdout"
        }
      ]
    },
    {
      "cell_type": "code",
      "metadata": {
        "id": "1pamyGIfpchr",
        "colab_type": "code",
        "colab": {}
      },
      "source": [
        "n = ['Pedro','Thiago','João','Paulo','Daniel','Maria','Cátia','Suelen','Laura','Maria']\n",
        "while True:\n",
        "    qNome = input('Informe um nome para saber se ele está na lista (ou 0 para sair): ')\n",
        "    if qNome == '0':\n",
        "        break\n",
        "    if qNome in n:\n",
        "        print(\"O nome '{}' está na lista.\" .format(qNome))\n",
        "    else:\n",
        "        print(\"O nome '{}' não está na lista.\" .format(qNome))"
      ],
      "execution_count": 0,
      "outputs": []
    },
    {
      "cell_type": "markdown",
      "metadata": {
        "id": "0BYcEcgYaHbl",
        "colab_type": "text"
      },
      "source": [
        "### 7. Faça um algoritmo que calcule e apresente a média de alturas superior a 1,80. Informe também quantos e quais são os alunos."
      ]
    },
    {
      "cell_type": "code",
      "metadata": {
        "id": "wbXDmo6daU5n",
        "colab_type": "code",
        "colab": {}
      },
      "source": [
        "# 7. Faça um algoritmo que\n",
        "sAlt = 0\n",
        "altgt18 = 0\n",
        "nAltgt18 = []\n",
        "nuAl = int(input('Informe o número de alunos: '))\n",
        "for aluno in range(nuAl):\n",
        "    noAluno = input('Informe o nome do {}º aluno: ' .format(aluno+1))\n",
        "    alt = float(input('Informe a altura do {}º aluno (em m.): ' .format(aluno+1)))\n",
        "    if alt > 1.8:\n",
        "        sAlt += alt\n",
        "        altgt18 +=1\n",
        "        nAltgt18.append(noAluno)\n",
        "print('\\nA altura média da turma é {:.2f}m.' .format(sAlt/altgt18))\n",
        "print('A quantidade de alunos maiores que 1,80m é {}.' .format(altgt18))\n",
        "print('Os alunos maiores que 1,80m são: ', end=\"\")\n",
        "print(*nAltgt18, sep=\", \", end=\".\")"
      ],
      "execution_count": 0,
      "outputs": []
    },
    {
      "cell_type": "markdown",
      "metadata": {
        "id": "mFaqmOmuaVN2",
        "colab_type": "text"
      },
      "source": [
        "### 8. Criar um algoritmo que a partir de um vetor de 10 elementos inteiros, crie outros dois vetores que receberão os elementos positivos e negativos e ao final apresente-os."
      ]
    },
    {
      "cell_type": "code",
      "metadata": {
        "id": "A6hJ8MIdahuM",
        "colab_type": "code",
        "colab": {}
      },
      "source": [
        "# 8. Criar um algoritmo que\n",
        "nInt = [-1,15,2,-95,32,523,-46,17]\n",
        "inLt0 = []\n",
        "inGt0 = [] \n",
        "for n in nInt:\n",
        "    if n < 0:\n",
        "        inLt0.append(n)\n",
        "    else:\n",
        "        inGt0.append(n)\n",
        "print('Os valores positivos da lista de números são: ', end=\"\")\n",
        "print(*inGt0, sep=\", \", end=\".\")\n",
        "print('\\nOs valores negativos da lista de números são: ', end=\"\")\n",
        "print(*inLt0, sep=\", \", end=\".\")"
      ],
      "execution_count": 0,
      "outputs": []
    },
    {
      "cell_type": "markdown",
      "metadata": {
        "id": "K5IMhYTHaiEl",
        "colab_type": "text"
      },
      "source": [
        "### 9. Criar um algoritmo que leia dados para um vetor de 100 elementos inteiros, imprimir o maior, o menor, o percentual de números pares e a média dos elementos do vetor. Obs.: percentual = quantidade contada * 100 / quantidade total."
      ]
    },
    {
      "cell_type": "code",
      "metadata": {
        "id": "X6krLAFKaumK",
        "colab_type": "code",
        "colab": {}
      },
      "source": [
        "# 9. Criar um algoritmo que\n",
        "l = [17, 53, 61, 71, 77, 79, 91, 93, 113, 115, 138, 139, 150, 152, 168, 195, 196, 202, 211, 214, 228, 237, 268, 271, 273, 287, 305, 315, 318, 320, 323, 336, 343, 361, 366, 385, 396, 406, 420, 427, 429, 456, 469, 473, 481, 487, 491, 502, 506, 521, 531, 540, 541, 547, 591, 593, 593, 595, 605, 617, 639, 661, 665, 670, 696, 702, 702, 703, 718, 725, 727, 741, 752, 766, 798, 807, 808, 812, 819, 848, 856, 863, 863, 864, 866, 870, 878, 881, 884, 893, 902, 909, 910, 940, 949, 951, 966, 968, 985, 994]\n",
        "nIntP = 0\n",
        "print('O menor número é {}.'. format(min(l)))\n",
        "print('O maior número é {}.'. format(max(l)))\n",
        "for n in l:\n",
        "    if n % 2 == 0:\n",
        "        nIntP += 1\n",
        "percP = nIntP/len(l)*100\n",
        "medL = sum(l)/len(l)\n",
        "print('O percentual de números pares é {}%.' .format(percP))\n",
        "print('A média dos elementos da lista é {:.2f}.' .format(medL))"
      ],
      "execution_count": 0,
      "outputs": []
    },
    {
      "cell_type": "markdown",
      "metadata": {
        "id": "Hwgks80Tawon",
        "colab_type": "text"
      },
      "source": [
        "### 10. Um vetor é palíndromo se ele não se alterar quando o mesmo for invertido. Por exemplo, o vetor original vo = {1, 3, 5, 2, 2, 5, 3, 1} é palíndromo, pois ele invertido é vi = {1, 3, 5, 2, 2, 5, 3, 1}, igual ao original. Escreva um algoritmo que verifique se um vetor é palíndromo, fazendo comparação de posição por posição do vetor origem (vo) com o vetor invertido(vi).\n"
      ]
    },
    {
      "cell_type": "code",
      "metadata": {
        "id": "dXcF9kNip9QW",
        "colab_type": "code",
        "colab": {}
      },
      "source": [
        "# 10. Um vetor é palíndromo se\n",
        "valor = input('Informe uma palavra ou uma série de números para verificar se são palíndromo: ')\n",
        "vo = [1, 3, 5, 2, 2, 5, 3, 1]\n",
        "vi = vo[::-1]\n",
        "somaL = 0\n",
        "for i in range(len(vo)):\n",
        "    if vo[i] == vi[i]:\n",
        "        somaL += 1\n",
        "    else:\n",
        "        print('A lista NÃO é um palíndromo!')\n",
        "        break\n",
        "if somaL == len(vo):\n",
        "    print('A lista é um palíndromo!')"
      ],
      "execution_count": 0,
      "outputs": []
    },
    {
      "cell_type": "code",
      "metadata": {
        "id": "dVqO1UaBa7GD",
        "colab_type": "code",
        "colab": {}
      },
      "source": [
        "# 10. Um vetor é palíndromo se\n",
        "valor = input('Informe uma palavra ou uma série de números para verificar se são palíndromo: ')\n",
        "lo = [x for x in valor]\n",
        "li = lo[::-1]\n",
        "somaL = 0\n",
        "for i in range(len(lo)):\n",
        "    if lo[i] == li[i]:\n",
        "        somaL += 1\n",
        "    else:\n",
        "        print('A lista NÃO é um palíndromo!')\n",
        "        break\n",
        "if somaL == len(lo):\n",
        "    print('A lista é um palíndromo!')"
      ],
      "execution_count": 0,
      "outputs": []
    },
    {
      "cell_type": "markdown",
      "metadata": {
        "id": "HmWgU1x2FaAP",
        "colab_type": "text"
      },
      "source": [
        "#**EXERCÍCIOS - EXTRA**"
      ]
    },
    {
      "cell_type": "markdown",
      "metadata": {
        "id": "X6C3DbCGFR71",
        "colab_type": "text"
      },
      "source": [
        "### 11. Faça um programa que:\n",
        "\n",
        "* preencha uma lista com seis elementos numéricos inteiros. \n",
        "\n",
        "**Calcule e mostre:**\n",
        "\n",
        "* todos os números pares;\n",
        "* a quantidade de números pares;\n",
        "* todos os números ímpares;\n",
        "* a quantidade de números ímpares"
      ]
    },
    {
      "cell_type": "code",
      "metadata": {
        "id": "0OjTx-RoFZUT",
        "colab_type": "code",
        "outputId": "0909a829-e36c-4642-9ea6-f20d4b0dfdce",
        "colab": {
          "base_uri": "https://localhost:8080/",
          "height": 153
        }
      },
      "source": [
        "# 11. Faça um programa que\n",
        "nInt = []\n",
        "nIntP = []\n",
        "nIntImp = []\n",
        "for n in range(6):\n",
        "  nInt.append(int(input('Informe um número inteiro: ')))\n",
        "for n in nInt:\n",
        "  if n % 2 == 0:\n",
        "    nIntP.append(n)\n",
        "  else:\n",
        "    nIntImp.append(n)\n",
        "print('Há {} números pares, que são : ' .format(len(nIntP)), end=\"\")\n",
        "print(*nIntP, sep=\", \", end=\".\")\n",
        "print('\\nHá {} números ímpares, que são : ' .format(len(nIntImp)), end=\"\")\n",
        "print(*nIntImp, sep=\", \", end=\".\")"
      ],
      "execution_count": 0,
      "outputs": [
        {
          "output_type": "stream",
          "text": [
            "Informe um número inteiro: 14\n",
            "Informe um número inteiro: 25\n",
            "Informe um número inteiro: 36\n",
            "Informe um número inteiro: 47\n",
            "Informe um número inteiro: 58\n",
            "Informe um número inteiro: 69\n",
            "Há 3 números pares, que são : 14, 36, 58.\n",
            "Há 3 números ímpares, que são : 25, 47, 69."
          ],
          "name": "stdout"
        }
      ]
    },
    {
      "cell_type": "markdown",
      "metadata": {
        "id": "qTCb3GyDFzlm",
        "colab_type": "text"
      },
      "source": [
        "### 12. Faça um programa que:\n",
        "\n",
        "* preencha uma lista com sete números inteiros,\n",
        "\n",
        "**Calcule e mostre:**\n",
        "\n",
        "* os números múltiplos de 2;\n",
        "* os números múltiplos de 3;\n",
        "* os números múltiplos de 2 e de 3."
      ]
    },
    {
      "cell_type": "code",
      "metadata": {
        "id": "OPX_rge2F3kR",
        "colab_type": "code",
        "outputId": "a10eb919-94b0-4ace-f260-08b0cefbe862",
        "colab": {
          "base_uri": "https://localhost:8080/",
          "height": 204
        }
      },
      "source": [
        "# 12. Faça um programa que:\n",
        "nInt = []\n",
        "nM23 = []\n",
        "nM2 = []\n",
        "nM3 = []\n",
        "for n in range(7):\n",
        "  nInt.append(int(input('Informe um número inteiro: ')))\n",
        "for n in nInt:\n",
        "  if n % 2 == 0 and n % 3 == 0:\n",
        "    nM23.append(n)\n",
        "  elif n % 2 == 0:\n",
        "    nM2.append(n)\n",
        "  elif n % 3 == 0:\n",
        "    nM3.append(n)\n",
        "print('\\nOs números múltiplos apenas de 2 são: ', end=\"\")\n",
        "print(*nM2, sep=\", \", end=\".\")\n",
        "print('\\nOs números múltiplos apenas de 3 são: ', end=\"\")\n",
        "print(*nM3, sep=\", \", end=\".\")\n",
        "print('\\nOs números múltiplos de 2 e de 3 são: ', end=\"\")\n",
        "print(*nM23, sep=\", \", end=\".\")"
      ],
      "execution_count": 0,
      "outputs": [
        {
          "output_type": "stream",
          "text": [
            "Informe um número inteiro: 20\n",
            "Informe um número inteiro: 25\n",
            "Informe um número inteiro: 24\n",
            "Informe um número inteiro: 36\n",
            "Informe um número inteiro: 18\n",
            "Informe um número inteiro: 12\n",
            "Informe um número inteiro: 9\n",
            "\n",
            "Os números múltiplos apenas de 2 são: 20.\n",
            "Os números múltiplos apenas de 3 são: 9.\n",
            "Os números múltiplos de 2 e de 3 são: 24, 36, 18, 12."
          ],
          "name": "stdout"
        }
      ]
    },
    {
      "cell_type": "markdown",
      "metadata": {
        "id": "sf4dSTh-F3wV",
        "colab_type": "text"
      },
      "source": [
        "### 13. Faça um programa que:\n",
        "\n",
        "* preencha uma lista com quinze elementos inteiros\n",
        "* verifique a existência de elementos iguais a 30, mostrando as posições em que apareceram."
      ]
    },
    {
      "cell_type": "code",
      "metadata": {
        "id": "pV6slXVYF8Fm",
        "colab_type": "code",
        "outputId": "536f9c88-172c-40c2-82ba-59c4380f6b85",
        "colab": {
          "base_uri": "https://localhost:8080/",
          "height": 136
        }
      },
      "source": [
        "# 13. Faça um programa que:\n",
        "nInt = []\n",
        "for n in range(15):\n",
        "  nInt.append(int(input('Informe um número inteiro: ')))\n",
        "for n in range(15):\n",
        "  if nInt[n] == 30:\n",
        "    p = n\n",
        "    print('O número 30 ocupa a {}ª posição nesta lista.' .format(p+1))"
      ],
      "execution_count": 0,
      "outputs": [
        {
          "output_type": "stream",
          "text": [
            "Informe um número inteiro: 30\n",
            "Informe um número inteiro: 14\n",
            "Informe um número inteiro: 30\n",
            "Informe um número inteiro: 25\n",
            "Informe um número inteiro: 63\n",
            "O número 30 ocupa a 1ª posição nesta lista.\n",
            "O número 30 ocupa a 3ª posição nesta lista.\n"
          ],
          "name": "stdout"
        }
      ]
    },
    {
      "cell_type": "markdown",
      "metadata": {
        "id": "9UnrFcvfF8VU",
        "colab_type": "text"
      },
      "source": [
        "### 14.Faça um programa que:\n",
        "\n",
        "* preencha uma lista com dez números reais\n",
        "\n",
        "**Calcule e mostre:**\n",
        "\n",
        "* a quantidade de números negativos\n",
        "* a soma dos números positivos desse *lista*"
      ]
    },
    {
      "cell_type": "code",
      "metadata": {
        "id": "x4hGToRMM6q8",
        "colab_type": "code",
        "outputId": "b9c264b6-e06d-4437-95e0-373d4e55e9ad",
        "colab": {
          "base_uri": "https://localhost:8080/",
          "height": 238
        }
      },
      "source": [
        "# 14. Faça um programa que:\n",
        "nInt = []\n",
        "iN = []\n",
        "iP = [] \n",
        "for n in range(10):\n",
        "  nInt.append(float(input('Informe um número real: ')))\n",
        "for n in nInt:\n",
        "    if n < 0:\n",
        "        iN.append(n)\n",
        "    else:\n",
        "        iP.append(n)\n",
        "print('\\nA quantidade de números negativos da lista é {}.' .format(len(iN)))\n",
        "print('A soma de números positivos ou igual a zero é {:.2f}.' .format(sum(iP)))"
      ],
      "execution_count": 0,
      "outputs": [
        {
          "output_type": "stream",
          "text": [
            "Informe um número real: 20\n",
            "Informe um número real: -35\n",
            "Informe um número real: 14\n",
            "Informe um número real: -98\n",
            "Informe um número real: -32\n",
            "Informe um número real: 32\n",
            "Informe um número real: 0\n",
            "Informe um número real: 52\n",
            "Informe um número real: -456\n",
            "Informe um número real: 41\n",
            "\n",
            "A quantidade de números negativos da lista é 4.00.\n",
            "A soma de números positivos ou igual a zero é 159.00.\n"
          ],
          "name": "stdout"
        }
      ]
    },
    {
      "cell_type": "markdown",
      "metadata": {
        "id": "h08bQeSEM62n",
        "colab_type": "text"
      },
      "source": [
        "### 15. Faça um programa que:\n",
        "\n",
        "* receba dez números inteiros e armazene-os em uma lista\n",
        "* classifique os numeros em duas listas, uma com números pares e o outra com os ímpares"
      ]
    },
    {
      "cell_type": "code",
      "metadata": {
        "id": "5Ch4maMCM-hg",
        "colab_type": "code",
        "outputId": "5e4b7daa-2e2f-470d-f5b3-1a85cef2bf46",
        "colab": {
          "base_uri": "https://localhost:8080/",
          "height": 170
        }
      },
      "source": [
        "# 15. Faça um programa que\n",
        "nInt = []\n",
        "nIntP = []\n",
        "nIntImp = []\n",
        "for n in range(10):\n",
        "  nInt.append(int(input('Informe um número inteiro: ')))\n",
        "for n in nInt:\n",
        "  if n % 2 == 0:\n",
        "    nIntP.append(n)\n",
        "  else:\n",
        "    nIntImp.append(n)\n",
        "nIntP.sort()\n",
        "nIntImp.sort()\n",
        "print('\\nOs números pares são: ', end=\"\")\n",
        "print(*nIntP, sep=\", \", end=\".\")\n",
        "print('\\nOs números ímpares são: ', end=\"\")\n",
        "print(*nIntImp, sep=\", \", end=\".\")"
      ],
      "execution_count": 0,
      "outputs": [
        {
          "output_type": "stream",
          "text": [
            "Informe um número inteiro: 10\n",
            "Informe um número inteiro: 52\n",
            "Informe um número inteiro: 63\n",
            "Informe um número inteiro: 96\n",
            "Informe um número inteiro: 85\n",
            "Informe um número inteiro: 74\n",
            "\n",
            "Os números pares são : 10, 52, 74, 96.\n",
            "Os números ímpares são : 63, 85."
          ],
          "name": "stdout"
        }
      ]
    },
    {
      "cell_type": "markdown",
      "metadata": {
        "id": "ASOIKJD7M-vh",
        "colab_type": "text"
      },
      "source": [
        "### 16. Faça um programa que:\n",
        "\n",
        "* receba cinco números e mostre a saída a seguir:\n",
        "* imprima a seguinte saída: n1 + n2+ n3 + n4 + n5 = soma_dos_numeros"
      ]
    },
    {
      "cell_type": "code",
      "metadata": {
        "id": "J-jy56awNIb4",
        "colab_type": "code",
        "outputId": "1f7201cf-5486-437e-9894-c27f3971b941",
        "colab": {
          "base_uri": "https://localhost:8080/",
          "height": 119
        }
      },
      "source": [
        "# 16. Faça um programa que:\n",
        "nInt = []\n",
        "for n in range(5):\n",
        "  nInt.append(int(input('Informe um número inteiro: ')))\n",
        "print(*nInt, sep=' + ', end=' = ')\n",
        "print(sum(nInt), end=\".\")"
      ],
      "execution_count": 0,
      "outputs": [
        {
          "output_type": "stream",
          "text": [
            "Informe um número inteiro: 35\n",
            "Informe um número inteiro: 12\n",
            "Informe um número inteiro: 45\n",
            "Informe um número inteiro: 96\n",
            "Informe um número inteiro: 52\n",
            "35 + 12 + 45 + 96 + 52 = 240."
          ],
          "name": "stdout"
        }
      ]
    },
    {
      "cell_type": "markdown",
      "metadata": {
        "id": "CwrnVAqjNIqA",
        "colab_type": "text"
      },
      "source": [
        "### 17. Faça um programa que:\n",
        "\n",
        "* preencha duas listas com de dez numeros cada\n",
        "* preecha uma terceira lista com os números das duas listas anteriores ordenados em ordem crescente\n"
      ]
    },
    {
      "cell_type": "code",
      "metadata": {
        "id": "JG4VQSZ0NNGP",
        "colab_type": "code",
        "outputId": "3592b7f0-1ab6-404c-b4c0-6ae96ff4839e",
        "colab": {
          "base_uri": "https://localhost:8080/",
          "height": 54
        }
      },
      "source": [
        "# 17. Faça um programa que:\n",
        "l1 = [39, 37, 77, 33, 93, 22, 11, 87, 9, 57]\n",
        "l2 = [2, 7, 15, 43, 74, 49, 56, 14, 24, 30]\n",
        "l3 = l1 + l2\n",
        "l3.sort()\n",
        "print(l3)"
      ],
      "execution_count": 0,
      "outputs": [
        {
          "output_type": "stream",
          "text": [
            "[2, 7, 9, 11, 14, 15, 22, 24, 30, 33, 37, 39, 43, 49, 56, 57, 74, 77, 87, 93]\n"
          ],
          "name": "stdout"
        }
      ]
    },
    {
      "cell_type": "markdown",
      "metadata": {
        "id": "Lzqh-l1JNNTr",
        "colab_type": "text"
      },
      "source": [
        "### 18. Faça um programa que:\n",
        "\n",
        "* preencha uma lista com quinze números,\n",
        "\n",
        "**Determine e mostre:**\n",
        "\n",
        "* o maior número e a posição por ele ocupada na lista;\n",
        "* o menor número e a posição por ele ocupada na lista."
      ]
    },
    {
      "cell_type": "code",
      "metadata": {
        "id": "G5dYBNdcNSa4",
        "colab_type": "code",
        "outputId": "7a150e5c-1046-4315-8076-c2c9708e5104",
        "colab": {
          "base_uri": "https://localhost:8080/",
          "height": 51
        }
      },
      "source": [
        "# 18. Faça um programa que:\n",
        "l = [40, 12, 13, 94, 35, 70, 9, 26, 3, 12, 95, 12, 24, 96, 86]\n",
        "nMax = max(l)\n",
        "nMin = min(l)\n",
        "pMax = l.index(nMax)\n",
        "pMin = l.index(nMin)\n",
        "print(\"O maior número é {} e ele ocupa a {}ª posição.\" .format(nMax,pMax+1))\n",
        "print(\"O menor número é {} e ele ocupa a {}ª posição.\" .format(nMin,pMin+1))"
      ],
      "execution_count": 0,
      "outputs": [
        {
          "output_type": "stream",
          "text": [
            "O maior número é 96 e ele ocupa a 14ª posição.\n",
            "O menor número é 3 e ele ocupa a 9ª posição.\n"
          ],
          "name": "stdout"
        }
      ]
    },
    {
      "cell_type": "markdown",
      "metadata": {
        "id": "HkiTq5lrNSnY",
        "colab_type": "text"
      },
      "source": [
        "### 19. Faça um programa que:\n",
        "\n",
        "* lista duas listas com 10 números cada\n",
        "* faça a multiplicação dos números na mesma posição\n",
        "* o resultado deverá ser adcionada em uma terceira lista"
      ]
    },
    {
      "cell_type": "code",
      "metadata": {
        "id": "F1bta73yNXRe",
        "colab_type": "code",
        "colab": {
          "base_uri": "https://localhost:8080/",
          "height": 34
        },
        "outputId": "5f66b825-43e4-49a3-b0bb-21b148d31191"
      },
      "source": [
        "# 19. Faça um programa que:\n",
        "l1 = [23, 72, 56, 21, 57, 9, 97, 89, 99, 48]\n",
        "l2 = [47, 78, 88, 26, 91, 32, 41, 2, 76, 27]\n",
        "l3 = []\n",
        "for n in range(len(l1)):\n",
        "  l3.append(l1[n]*l2[n])\n",
        "print(l3)"
      ],
      "execution_count": 46,
      "outputs": [
        {
          "output_type": "stream",
          "text": [
            "[1081, 5616, 4928, 546, 5187, 288, 3977, 178, 7524, 1296]\n"
          ],
          "name": "stdout"
        }
      ]
    },
    {
      "cell_type": "markdown",
      "metadata": {
        "id": "ZAel4hPSNXdC",
        "colab_type": "text"
      },
      "source": [
        "### 20. Faça um programa que:\n",
        "\n",
        "* leia uma lista 10 números inteiros\n",
        "* exiba na tela os números positivos."
      ]
    },
    {
      "cell_type": "code",
      "metadata": {
        "id": "Wn-sojioNb99",
        "colab_type": "code",
        "colab": {
          "base_uri": "https://localhost:8080/",
          "height": 34
        },
        "outputId": "cdbea014-da70-40cd-c8e3-97723e6258b3"
      },
      "source": [
        "# 20. Faça um programa que:\n",
        "l = [-1,15,2,-95,32,523,-46,17,-5,-10]\n",
        "lP = []\n",
        "for n in l:\n",
        "  if n > 0:\n",
        "    lP.append(n)\n",
        "print(lP)"
      ],
      "execution_count": 45,
      "outputs": [
        {
          "output_type": "stream",
          "text": [
            "[15, 2, 32, 523, 17]\n"
          ],
          "name": "stdout"
        }
      ]
    },
    {
      "cell_type": "markdown",
      "metadata": {
        "id": "IErlUNBBNcKh",
        "colab_type": "text"
      },
      "source": [
        "### 21. Faça um programa que:\n",
        "\n",
        "* insira dez números inteiros em uma lista\n",
        "* crie um segundo lista, substituindo os números multiplos de 3 por \"*\"\"\n",
        "* exiba as duas listas"
      ]
    },
    {
      "cell_type": "code",
      "metadata": {
        "id": "ABkUHan9NiRV",
        "colab_type": "code",
        "colab": {
          "base_uri": "https://localhost:8080/",
          "height": 51
        },
        "outputId": "cdf28f02-c26d-4cb3-c53b-527676aff20b"
      },
      "source": [
        "# 21. Faça um programa que:\n",
        "lA = [-1,15,2,-95,32,523,-46,17,-5,-10]\n",
        "lB = []\n",
        "#for n in range(10):\n",
        "#  lA.append(int(input('Informe um número inteiro: ')))\n",
        "for n in range(len(lA)):\n",
        "  if lA[n] % 3 == 0:\n",
        "    lB.append('*')\n",
        "  else:\n",
        "    lB.append(lA[n])\n",
        "print(lA)\n",
        "print(lB)"
      ],
      "execution_count": 43,
      "outputs": [
        {
          "output_type": "stream",
          "text": [
            "[-1, 15, 2, -95, 32, 523, -46, 17, -5, -10]\n",
            "[-1, '*', 2, -95, 32, 523, -46, 17, -5, -10]\n"
          ],
          "name": "stdout"
        }
      ]
    },
    {
      "cell_type": "markdown",
      "metadata": {
        "id": "gasIXY62Nifp",
        "colab_type": "text"
      },
      "source": [
        "### 22. Faça um programa que:\n",
        "* adicione 10 numeros inteiros em uma lista A.\n",
        "* remova todos os numeros menores que 0 da lista A e os adicione na lista B\n",
        "* exiba as lista A e B"
      ]
    },
    {
      "cell_type": "code",
      "metadata": {
        "id": "JZd__UNlNnJO",
        "colab_type": "code",
        "colab": {
          "base_uri": "https://localhost:8080/",
          "height": 51
        },
        "outputId": "4668534d-4900-4d63-823a-03ef08e83da4"
      },
      "source": [
        "# 22. Faça um programa que:\n",
        "lA = [-1,15,2,-95,32,523,-46,17,-5,-10]\n",
        "lB = []\n",
        "#for n in range(10):\n",
        "#  lA.append(int(input('Informe um número inteiro: ')))\n",
        "for n in range(len(lA)):\n",
        "  if lA[n] < 0:\n",
        "    lB.append(lA[n])\n",
        "for n in range(len(lB)):\n",
        "  if lB[n] in lA:\n",
        "    lA.pop(lA.index(lB[n]))\n",
        "print(lA)\n",
        "print(lB)"
      ],
      "execution_count": 39,
      "outputs": [
        {
          "output_type": "stream",
          "text": [
            "[15, 2, 32, 523, 17]\n",
            "[-1, -95, -46, -5, -10]\n"
          ],
          "name": "stdout"
        }
      ]
    },
    {
      "cell_type": "markdown",
      "metadata": {
        "id": "ZtxMl1r8NnV7",
        "colab_type": "text"
      },
      "source": [
        "### 23. Faça um programa que:\n",
        "\n",
        "* leia duas listas (A e B) com cinco posições para números inteiros.\n",
        "* O programa deve, então, subtrair o primeiro elemento de A do último de B, acumulando o valor, subtrair o segundo elemento de A do penúltimo de B, acumulando o valor e assim por diante. \n",
        "* Ao final, mostre o resultado de todas as subtrações realizadas"
      ]
    },
    {
      "cell_type": "code",
      "metadata": {
        "id": "TPVdojenNq37",
        "colab_type": "code",
        "colab": {
          "base_uri": "https://localhost:8080/",
          "height": 34
        },
        "outputId": "ca9582a9-6cbe-4d5d-8794-5436dce3405d"
      },
      "source": [
        "23. Faça um programa que.\n",
        "l1 = [23, 72, 56, 21, 57]\n",
        "l2 = [47, 78, 88, 26, 91]\n",
        "l2.reverse()\n",
        "l3 = []\n",
        "for n in range(len(l1)):\n",
        "  l3.append(l1[n]-l2[n])\n",
        "print(l3)"
      ],
      "execution_count": 4,
      "outputs": [
        {
          "output_type": "stream",
          "text": [
            "[-68, 46, -32, -57, 10]\n"
          ],
          "name": "stdout"
        }
      ]
    },
    {
      "cell_type": "markdown",
      "metadata": {
        "id": "QLfe6vF5NrB7",
        "colab_type": "text"
      },
      "source": [
        "### 24. Faça um programa que:\n",
        "* leia uma lista com quinze posições para números inteiros.\n",
        "* Crie, a seguir, um lista resultante que contenha todos os números primos do lista digitado.\n",
        "* Escreva o lista resultante."
      ]
    },
    {
      "cell_type": "code",
      "metadata": {
        "id": "hyDhAbwPNuhK",
        "colab_type": "code",
        "colab": {}
      },
      "source": [
        "# Digite seu código aqui.\n",
        "l = [40, 12, 13, 94, 35, 70, 9, 26, 3, 12, 95, 12, 24, 96, 86]\n",
        "l.sort()\n",
        "lPrimos = []\n",
        "contDiv = 0\n",
        "for n in l:\n",
        "  if n == 2:\n",
        "    lPrimos.append(n)\n",
        "  else:\n",
        "    divisor = 0\n",
        "    while divisor < l[l.index(divisor)]:\n",
        "    #for divisor in l[]+1):\n",
        "      if l[len(l.index(divisor))] % divisor == 0:\n",
        "        contDiv += 1\n",
        "        divisor += 1\n",
        "print(lPrimos)"
      ],
      "execution_count": 0,
      "outputs": []
    },
    {
      "cell_type": "code",
      "metadata": {
        "id": "3avHQWaS5iTY",
        "colab_type": "code",
        "outputId": "4de455a4-3edd-45c3-86a4-5a2affcf8877",
        "colab": {
          "base_uri": "https://localhost:8080/",
          "height": 51
        }
      },
      "source": [
        "l = [40, 12, 13, 94, 35, 70, 9, 26, 3, 12, 95, 12, 24, 96, 86]\n",
        "print(len(l))\n",
        "print(l[len(l)-1])"
      ],
      "execution_count": 0,
      "outputs": [
        {
          "output_type": "stream",
          "text": [
            "15\n",
            "86\n"
          ],
          "name": "stdout"
        }
      ]
    },
    {
      "cell_type": "markdown",
      "metadata": {
        "id": "D6GVJmfhNusA",
        "colab_type": "text"
      },
      "source": [
        "### 25. Faça um programa que:\n",
        "* leia uma lista com quinze posições para números inteiros.\n",
        "* Depois da leitura, divida todos os seus elementos pelo maior valor do lista.\n",
        "* Mostre o lista após os cálculos."
      ]
    },
    {
      "cell_type": "code",
      "metadata": {
        "id": "ua4_aIrbN0rO",
        "colab_type": "code",
        "outputId": "9510c691-0769-4ece-bbef-d6c2b4f6584d",
        "colab": {
          "base_uri": "https://localhost:8080/",
          "height": 54
        }
      },
      "source": [
        "# 25. Faça um programa que:\n",
        "l = [40, 12, 13, 94, 35, 70, 9, 26, 3, 12, 95, 12, 24, 96, 86]\n",
        "nMax = max(l)\n",
        "for n in range(len(l)):\n",
        "  l[n] /= nMax \n",
        "print(l)"
      ],
      "execution_count": 0,
      "outputs": [
        {
          "output_type": "stream",
          "text": [
            "[0.4166666666666667, 0.125, 0.13541666666666666, 0.9791666666666666, 0.3645833333333333, 0.7291666666666666, 0.09375, 0.2708333333333333, 0.03125, 0.125, 0.9895833333333334, 0.125, 0.25, 1.0, 0.8958333333333334]\n"
          ],
          "name": "stdout"
        }
      ]
    },
    {
      "cell_type": "markdown",
      "metadata": {
        "id": "7abrbqrH4R8k",
        "colab_type": "text"
      },
      "source": [
        "GERADOR DE LISTAS"
      ]
    },
    {
      "cell_type": "code",
      "metadata": {
        "id": "MkR7mjst1dph",
        "colab_type": "code",
        "outputId": "612178dc-e0a8-4231-b90f-998e1550d5b7",
        "colab": {
          "base_uri": "https://localhost:8080/",
          "height": 34
        }
      },
      "source": [
        "import random\n",
        "l = []\n",
        "for x in range(10):\n",
        "     l.append(random.randint(1,100))\n",
        "print(l)"
      ],
      "execution_count": 50,
      "outputs": [
        {
          "output_type": "stream",
          "text": [
            "[23, 81, 89, 23, 86, 55, 99, 6, 92, 32]\n"
          ],
          "name": "stdout"
        }
      ]
    },
    {
      "cell_type": "code",
      "metadata": {
        "id": "ou08I9DgYIer",
        "colab_type": "code",
        "colab": {}
      },
      "source": [
        ""
      ],
      "execution_count": 0,
      "outputs": []
    }
  ]
}